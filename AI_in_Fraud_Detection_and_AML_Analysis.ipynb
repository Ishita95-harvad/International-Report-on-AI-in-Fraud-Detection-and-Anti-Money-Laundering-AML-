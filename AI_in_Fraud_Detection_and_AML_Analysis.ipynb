{
  "nbformat": 4,
  "nbformat_minor": 0,
  "metadata": {
    "colab": {
      "provenance": []
    },
    "kernelspec": {
      "name": "python3",
      "display_name": "Python 3"
    },
    "language_info": {
      "name": "python"
    }
  },
  "cells": [
    {
      "cell_type": "markdown",
      "source": [
        "# *AI in Fraud Detection and AML Analysis*\n",
        "\n",
        "---\n",
        "\n"
      ],
      "metadata": {
        "id": "_oSdMFDGhGci"
      }
    },
    {
      "cell_type": "code",
      "execution_count": null,
      "metadata": {
        "colab": {
          "base_uri": "https://localhost:8080/",
          "height": 73
        },
        "id": "bwNaRPGHmRfG",
        "outputId": "3861154c-0632-4152-878d-bdfa8097edb7"
      },
      "outputs": [
        {
          "output_type": "display_data",
          "data": {
            "text/plain": [
              "<IPython.core.display.HTML object>"
            ],
            "text/html": [
              "\n",
              "     <input type=\"file\" id=\"files-66695112-715c-445b-893a-c3c6e367a93c\" name=\"files[]\" multiple disabled\n",
              "        style=\"border:none\" />\n",
              "     <output id=\"result-66695112-715c-445b-893a-c3c6e367a93c\">\n",
              "      Upload widget is only available when the cell has been executed in the\n",
              "      current browser session. Please rerun this cell to enable.\n",
              "      </output>\n",
              "      <script>// Copyright 2017 Google LLC\n",
              "//\n",
              "// Licensed under the Apache License, Version 2.0 (the \"License\");\n",
              "// you may not use this file except in compliance with the License.\n",
              "// You may obtain a copy of the License at\n",
              "//\n",
              "//      http://www.apache.org/licenses/LICENSE-2.0\n",
              "//\n",
              "// Unless required by applicable law or agreed to in writing, software\n",
              "// distributed under the License is distributed on an \"AS IS\" BASIS,\n",
              "// WITHOUT WARRANTIES OR CONDITIONS OF ANY KIND, either express or implied.\n",
              "// See the License for the specific language governing permissions and\n",
              "// limitations under the License.\n",
              "\n",
              "/**\n",
              " * @fileoverview Helpers for google.colab Python module.\n",
              " */\n",
              "(function(scope) {\n",
              "function span(text, styleAttributes = {}) {\n",
              "  const element = document.createElement('span');\n",
              "  element.textContent = text;\n",
              "  for (const key of Object.keys(styleAttributes)) {\n",
              "    element.style[key] = styleAttributes[key];\n",
              "  }\n",
              "  return element;\n",
              "}\n",
              "\n",
              "// Max number of bytes which will be uploaded at a time.\n",
              "const MAX_PAYLOAD_SIZE = 100 * 1024;\n",
              "\n",
              "function _uploadFiles(inputId, outputId) {\n",
              "  const steps = uploadFilesStep(inputId, outputId);\n",
              "  const outputElement = document.getElementById(outputId);\n",
              "  // Cache steps on the outputElement to make it available for the next call\n",
              "  // to uploadFilesContinue from Python.\n",
              "  outputElement.steps = steps;\n",
              "\n",
              "  return _uploadFilesContinue(outputId);\n",
              "}\n",
              "\n",
              "// This is roughly an async generator (not supported in the browser yet),\n",
              "// where there are multiple asynchronous steps and the Python side is going\n",
              "// to poll for completion of each step.\n",
              "// This uses a Promise to block the python side on completion of each step,\n",
              "// then passes the result of the previous step as the input to the next step.\n",
              "function _uploadFilesContinue(outputId) {\n",
              "  const outputElement = document.getElementById(outputId);\n",
              "  const steps = outputElement.steps;\n",
              "\n",
              "  const next = steps.next(outputElement.lastPromiseValue);\n",
              "  return Promise.resolve(next.value.promise).then((value) => {\n",
              "    // Cache the last promise value to make it available to the next\n",
              "    // step of the generator.\n",
              "    outputElement.lastPromiseValue = value;\n",
              "    return next.value.response;\n",
              "  });\n",
              "}\n",
              "\n",
              "/**\n",
              " * Generator function which is called between each async step of the upload\n",
              " * process.\n",
              " * @param {string} inputId Element ID of the input file picker element.\n",
              " * @param {string} outputId Element ID of the output display.\n",
              " * @return {!Iterable<!Object>} Iterable of next steps.\n",
              " */\n",
              "function* uploadFilesStep(inputId, outputId) {\n",
              "  const inputElement = document.getElementById(inputId);\n",
              "  inputElement.disabled = false;\n",
              "\n",
              "  const outputElement = document.getElementById(outputId);\n",
              "  outputElement.innerHTML = '';\n",
              "\n",
              "  const pickedPromise = new Promise((resolve) => {\n",
              "    inputElement.addEventListener('change', (e) => {\n",
              "      resolve(e.target.files);\n",
              "    });\n",
              "  });\n",
              "\n",
              "  const cancel = document.createElement('button');\n",
              "  inputElement.parentElement.appendChild(cancel);\n",
              "  cancel.textContent = 'Cancel upload';\n",
              "  const cancelPromise = new Promise((resolve) => {\n",
              "    cancel.onclick = () => {\n",
              "      resolve(null);\n",
              "    };\n",
              "  });\n",
              "\n",
              "  // Wait for the user to pick the files.\n",
              "  const files = yield {\n",
              "    promise: Promise.race([pickedPromise, cancelPromise]),\n",
              "    response: {\n",
              "      action: 'starting',\n",
              "    }\n",
              "  };\n",
              "\n",
              "  cancel.remove();\n",
              "\n",
              "  // Disable the input element since further picks are not allowed.\n",
              "  inputElement.disabled = true;\n",
              "\n",
              "  if (!files) {\n",
              "    return {\n",
              "      response: {\n",
              "        action: 'complete',\n",
              "      }\n",
              "    };\n",
              "  }\n",
              "\n",
              "  for (const file of files) {\n",
              "    const li = document.createElement('li');\n",
              "    li.append(span(file.name, {fontWeight: 'bold'}));\n",
              "    li.append(span(\n",
              "        `(${file.type || 'n/a'}) - ${file.size} bytes, ` +\n",
              "        `last modified: ${\n",
              "            file.lastModifiedDate ? file.lastModifiedDate.toLocaleDateString() :\n",
              "                                    'n/a'} - `));\n",
              "    const percent = span('0% done');\n",
              "    li.appendChild(percent);\n",
              "\n",
              "    outputElement.appendChild(li);\n",
              "\n",
              "    const fileDataPromise = new Promise((resolve) => {\n",
              "      const reader = new FileReader();\n",
              "      reader.onload = (e) => {\n",
              "        resolve(e.target.result);\n",
              "      };\n",
              "      reader.readAsArrayBuffer(file);\n",
              "    });\n",
              "    // Wait for the data to be ready.\n",
              "    let fileData = yield {\n",
              "      promise: fileDataPromise,\n",
              "      response: {\n",
              "        action: 'continue',\n",
              "      }\n",
              "    };\n",
              "\n",
              "    // Use a chunked sending to avoid message size limits. See b/62115660.\n",
              "    let position = 0;\n",
              "    do {\n",
              "      const length = Math.min(fileData.byteLength - position, MAX_PAYLOAD_SIZE);\n",
              "      const chunk = new Uint8Array(fileData, position, length);\n",
              "      position += length;\n",
              "\n",
              "      const base64 = btoa(String.fromCharCode.apply(null, chunk));\n",
              "      yield {\n",
              "        response: {\n",
              "          action: 'append',\n",
              "          file: file.name,\n",
              "          data: base64,\n",
              "        },\n",
              "      };\n",
              "\n",
              "      let percentDone = fileData.byteLength === 0 ?\n",
              "          100 :\n",
              "          Math.round((position / fileData.byteLength) * 100);\n",
              "      percent.textContent = `${percentDone}% done`;\n",
              "\n",
              "    } while (position < fileData.byteLength);\n",
              "  }\n",
              "\n",
              "  // All done.\n",
              "  yield {\n",
              "    response: {\n",
              "      action: 'complete',\n",
              "    }\n",
              "  };\n",
              "}\n",
              "\n",
              "scope.google = scope.google || {};\n",
              "scope.google.colab = scope.google.colab || {};\n",
              "scope.google.colab._files = {\n",
              "  _uploadFiles,\n",
              "  _uploadFilesContinue,\n",
              "};\n",
              "})(self);\n",
              "</script> "
            ]
          },
          "metadata": {}
        },
        {
          "output_type": "stream",
          "name": "stdout",
          "text": [
            "Saving archive (1).zip to archive (1).zip\n"
          ]
        }
      ],
      "source": [
        "from google.colab import files\n",
        "uploaded = files.upload()"
      ]
    },
    {
      "cell_type": "markdown",
      "source": [
        "Load the dataset"
      ],
      "metadata": {
        "id": "qihjNhYGp8gW"
      }
    },
    {
      "cell_type": "code",
      "source": [
        "from google.colab import files\n",
        "uploaded = files.upload()\n",
        "\n",
        "import pandas as pd\n",
        "import io\n",
        "import zipfile\n",
        "\n",
        "# Get the actual key from the uploaded dictionary\n",
        "uploaded_file_key = list(uploaded.keys())[0]  # Get the first (and likely only) key\n",
        "\n",
        "# Use the actual key instead of a hardcoded one\n",
        "with zipfile.ZipFile(io.BytesIO(uploaded[uploaded_file_key]), 'r') as zip_ref:\n",
        "    # Assuming 'creditcard.csv' is inside the zip file\n",
        "    with zip_ref.open('creditcard.csv') as f:\n",
        "        df = pd.read_csv(f)"
      ],
      "metadata": {
        "colab": {
          "base_uri": "https://localhost:8080/",
          "height": 73
        },
        "id": "oSbl7QKjLkIq",
        "outputId": "7c0426d0-0ae9-4712-cc7e-d40f56abbf1f"
      },
      "execution_count": 20,
      "outputs": [
        {
          "output_type": "display_data",
          "data": {
            "text/plain": [
              "<IPython.core.display.HTML object>"
            ],
            "text/html": [
              "\n",
              "     <input type=\"file\" id=\"files-3fe3957f-22ea-475b-a6fa-757df9303b79\" name=\"files[]\" multiple disabled\n",
              "        style=\"border:none\" />\n",
              "     <output id=\"result-3fe3957f-22ea-475b-a6fa-757df9303b79\">\n",
              "      Upload widget is only available when the cell has been executed in the\n",
              "      current browser session. Please rerun this cell to enable.\n",
              "      </output>\n",
              "      <script>// Copyright 2017 Google LLC\n",
              "//\n",
              "// Licensed under the Apache License, Version 2.0 (the \"License\");\n",
              "// you may not use this file except in compliance with the License.\n",
              "// You may obtain a copy of the License at\n",
              "//\n",
              "//      http://www.apache.org/licenses/LICENSE-2.0\n",
              "//\n",
              "// Unless required by applicable law or agreed to in writing, software\n",
              "// distributed under the License is distributed on an \"AS IS\" BASIS,\n",
              "// WITHOUT WARRANTIES OR CONDITIONS OF ANY KIND, either express or implied.\n",
              "// See the License for the specific language governing permissions and\n",
              "// limitations under the License.\n",
              "\n",
              "/**\n",
              " * @fileoverview Helpers for google.colab Python module.\n",
              " */\n",
              "(function(scope) {\n",
              "function span(text, styleAttributes = {}) {\n",
              "  const element = document.createElement('span');\n",
              "  element.textContent = text;\n",
              "  for (const key of Object.keys(styleAttributes)) {\n",
              "    element.style[key] = styleAttributes[key];\n",
              "  }\n",
              "  return element;\n",
              "}\n",
              "\n",
              "// Max number of bytes which will be uploaded at a time.\n",
              "const MAX_PAYLOAD_SIZE = 100 * 1024;\n",
              "\n",
              "function _uploadFiles(inputId, outputId) {\n",
              "  const steps = uploadFilesStep(inputId, outputId);\n",
              "  const outputElement = document.getElementById(outputId);\n",
              "  // Cache steps on the outputElement to make it available for the next call\n",
              "  // to uploadFilesContinue from Python.\n",
              "  outputElement.steps = steps;\n",
              "\n",
              "  return _uploadFilesContinue(outputId);\n",
              "}\n",
              "\n",
              "// This is roughly an async generator (not supported in the browser yet),\n",
              "// where there are multiple asynchronous steps and the Python side is going\n",
              "// to poll for completion of each step.\n",
              "// This uses a Promise to block the python side on completion of each step,\n",
              "// then passes the result of the previous step as the input to the next step.\n",
              "function _uploadFilesContinue(outputId) {\n",
              "  const outputElement = document.getElementById(outputId);\n",
              "  const steps = outputElement.steps;\n",
              "\n",
              "  const next = steps.next(outputElement.lastPromiseValue);\n",
              "  return Promise.resolve(next.value.promise).then((value) => {\n",
              "    // Cache the last promise value to make it available to the next\n",
              "    // step of the generator.\n",
              "    outputElement.lastPromiseValue = value;\n",
              "    return next.value.response;\n",
              "  });\n",
              "}\n",
              "\n",
              "/**\n",
              " * Generator function which is called between each async step of the upload\n",
              " * process.\n",
              " * @param {string} inputId Element ID of the input file picker element.\n",
              " * @param {string} outputId Element ID of the output display.\n",
              " * @return {!Iterable<!Object>} Iterable of next steps.\n",
              " */\n",
              "function* uploadFilesStep(inputId, outputId) {\n",
              "  const inputElement = document.getElementById(inputId);\n",
              "  inputElement.disabled = false;\n",
              "\n",
              "  const outputElement = document.getElementById(outputId);\n",
              "  outputElement.innerHTML = '';\n",
              "\n",
              "  const pickedPromise = new Promise((resolve) => {\n",
              "    inputElement.addEventListener('change', (e) => {\n",
              "      resolve(e.target.files);\n",
              "    });\n",
              "  });\n",
              "\n",
              "  const cancel = document.createElement('button');\n",
              "  inputElement.parentElement.appendChild(cancel);\n",
              "  cancel.textContent = 'Cancel upload';\n",
              "  const cancelPromise = new Promise((resolve) => {\n",
              "    cancel.onclick = () => {\n",
              "      resolve(null);\n",
              "    };\n",
              "  });\n",
              "\n",
              "  // Wait for the user to pick the files.\n",
              "  const files = yield {\n",
              "    promise: Promise.race([pickedPromise, cancelPromise]),\n",
              "    response: {\n",
              "      action: 'starting',\n",
              "    }\n",
              "  };\n",
              "\n",
              "  cancel.remove();\n",
              "\n",
              "  // Disable the input element since further picks are not allowed.\n",
              "  inputElement.disabled = true;\n",
              "\n",
              "  if (!files) {\n",
              "    return {\n",
              "      response: {\n",
              "        action: 'complete',\n",
              "      }\n",
              "    };\n",
              "  }\n",
              "\n",
              "  for (const file of files) {\n",
              "    const li = document.createElement('li');\n",
              "    li.append(span(file.name, {fontWeight: 'bold'}));\n",
              "    li.append(span(\n",
              "        `(${file.type || 'n/a'}) - ${file.size} bytes, ` +\n",
              "        `last modified: ${\n",
              "            file.lastModifiedDate ? file.lastModifiedDate.toLocaleDateString() :\n",
              "                                    'n/a'} - `));\n",
              "    const percent = span('0% done');\n",
              "    li.appendChild(percent);\n",
              "\n",
              "    outputElement.appendChild(li);\n",
              "\n",
              "    const fileDataPromise = new Promise((resolve) => {\n",
              "      const reader = new FileReader();\n",
              "      reader.onload = (e) => {\n",
              "        resolve(e.target.result);\n",
              "      };\n",
              "      reader.readAsArrayBuffer(file);\n",
              "    });\n",
              "    // Wait for the data to be ready.\n",
              "    let fileData = yield {\n",
              "      promise: fileDataPromise,\n",
              "      response: {\n",
              "        action: 'continue',\n",
              "      }\n",
              "    };\n",
              "\n",
              "    // Use a chunked sending to avoid message size limits. See b/62115660.\n",
              "    let position = 0;\n",
              "    do {\n",
              "      const length = Math.min(fileData.byteLength - position, MAX_PAYLOAD_SIZE);\n",
              "      const chunk = new Uint8Array(fileData, position, length);\n",
              "      position += length;\n",
              "\n",
              "      const base64 = btoa(String.fromCharCode.apply(null, chunk));\n",
              "      yield {\n",
              "        response: {\n",
              "          action: 'append',\n",
              "          file: file.name,\n",
              "          data: base64,\n",
              "        },\n",
              "      };\n",
              "\n",
              "      let percentDone = fileData.byteLength === 0 ?\n",
              "          100 :\n",
              "          Math.round((position / fileData.byteLength) * 100);\n",
              "      percent.textContent = `${percentDone}% done`;\n",
              "\n",
              "    } while (position < fileData.byteLength);\n",
              "  }\n",
              "\n",
              "  // All done.\n",
              "  yield {\n",
              "    response: {\n",
              "      action: 'complete',\n",
              "    }\n",
              "  };\n",
              "}\n",
              "\n",
              "scope.google = scope.google || {};\n",
              "scope.google.colab = scope.google.colab || {};\n",
              "scope.google.colab._files = {\n",
              "  _uploadFiles,\n",
              "  _uploadFilesContinue,\n",
              "};\n",
              "})(self);\n",
              "</script> "
            ]
          },
          "metadata": {}
        },
        {
          "output_type": "stream",
          "name": "stdout",
          "text": [
            "Saving archive (1).zip to archive (1) (5).zip\n"
          ]
        }
      ]
    },
    {
      "cell_type": "markdown",
      "source": [
        "Step 1: Train and Save the Model\n",
        "Train the best-performing model (e.g., XGBoost or Random Forest) and save it for deployment."
      ],
      "metadata": {
        "id": "xfQ1BSyTqFrc"
      }
    },
    {
      "cell_type": "code",
      "source": [
        "import joblib\n",
        "from xgboost import XGBClassifier\n",
        "from sklearn.model_selection import train_test_split\n",
        "\n",
        "# Assuming 'Class' is the target variable column in your dataframe\n",
        "X = df.drop('Class', axis=1)  # Features\n",
        "y = df['Class']  # Target variable\n",
        "\n",
        "# Split the data into training and testing sets\n",
        "X_train, X_test, y_train, y_test = train_test_split(X, y, test_size=0.2, random_state=42)  # Adjust test_size as needed\n",
        "\n",
        "# Train the XGBoost model\n",
        "xgb_model = XGBClassifier(random_state=42, scale_pos_weight=(len(y_train) - sum(y_train)) / sum(y_train))\n",
        "xgb_model.fit(X_train, y_train)\n",
        "\n",
        "# Save the model to a file\n",
        "joblib.dump(xgb_model, 'fraud_detection_model.pkl')"
      ],
      "metadata": {
        "colab": {
          "base_uri": "https://localhost:8080/"
        },
        "id": "vRFGXPoisn2m",
        "outputId": "07fcb4e4-1c3d-45dc-9acc-3aa613e908f2"
      },
      "execution_count": null,
      "outputs": [
        {
          "output_type": "execute_result",
          "data": {
            "text/plain": [
              "['fraud_detection_model.pkl']"
            ]
          },
          "metadata": {},
          "execution_count": 6
        }
      ]
    },
    {
      "cell_type": "markdown",
      "source": [
        "Step 2: Explore and Preprocess the Data\n",
        "Check for missing values.\n",
        "\n",
        "Handle class imbalance (fraudulent transactions are typically rare).\n",
        "\n",
        "Normalize/scale numerical features."
      ],
      "metadata": {
        "id": "MojyO3JV-ThP"
      }
    },
    {
      "cell_type": "code",
      "source": [
        "# Check for missing values\n",
        "print(df.isnull().sum())\n",
        "\n",
        "# Check class distribution\n",
        "print(df['Class'].value_counts())\n",
        "\n",
        "# Separate features and target\n",
        "X = df.drop('Class', axis=1)\n",
        "y = df['Class']\n",
        "\n",
        "# Split the data into training and testing sets\n",
        "X_train, X_test, y_train, y_test = train_test_split(X, y, test_size=0.3, random_state=42, stratify=y)\n",
        "\n",
        "# Import StandardScaler from sklearn.preprocessing\n",
        "from sklearn.preprocessing import StandardScaler\n",
        "\n",
        "# Scale the features (important for algorithms like Logistic Regression)\n",
        "scaler = StandardScaler()\n",
        "X_train = scaler.fit_transform(X_train)\n",
        "X_test = scaler.transform(X_test)"
      ],
      "metadata": {
        "colab": {
          "base_uri": "https://localhost:8080/"
        },
        "id": "-K8MuzISCLFr",
        "outputId": "7cc817e8-97d6-46c2-9510-d3c0dcbe8077"
      },
      "execution_count": null,
      "outputs": [
        {
          "output_type": "stream",
          "name": "stdout",
          "text": [
            "Time      0\n",
            "V1        0\n",
            "V2        0\n",
            "V3        0\n",
            "V4        0\n",
            "V5        0\n",
            "V6        0\n",
            "V7        0\n",
            "V8        0\n",
            "V9        0\n",
            "V10       0\n",
            "V11       0\n",
            "V12       0\n",
            "V13       0\n",
            "V14       0\n",
            "V15       0\n",
            "V16       0\n",
            "V17       0\n",
            "V18       0\n",
            "V19       0\n",
            "V20       0\n",
            "V21       0\n",
            "V22       0\n",
            "V23       0\n",
            "V24       0\n",
            "V25       0\n",
            "V26       0\n",
            "V27       0\n",
            "V28       0\n",
            "Amount    0\n",
            "Class     0\n",
            "dtype: int64\n",
            "Class\n",
            "0    284315\n",
            "1       492\n",
            "Name: count, dtype: int64\n"
          ]
        }
      ]
    },
    {
      "cell_type": "markdown",
      "source": [
        "Step 3: Compare Model Performance"
      ],
      "metadata": {
        "id": "jTsp3IL--nIL"
      }
    },
    {
      "cell_type": "markdown",
      "source": [
        "Step 3: Train a Model\n",
        "Logistic Regression as a baseline model for binary classification."
      ],
      "metadata": {
        "id": "DPvWCe5FEnd7"
      }
    },
    {
      "cell_type": "code",
      "source": [
        "# Import LogisticRegression from sklearn.linear_model\n",
        "from sklearn.linear_model import LogisticRegression\n",
        "\n",
        "# Train a Logistic Regression model\n",
        "model = LogisticRegression(random_state=42, max_iter=1000)\n",
        "model.fit(X_train, y_train)\n",
        "\n",
        "# Predict on the test set\n",
        "y_pred = model.predict(X_test)\n",
        "y_pred_proba = model.predict_proba(X_test)[:, 1]  # Probabilities for ROC-AUC"
      ],
      "metadata": {
        "id": "wZyiYEYYFUkK"
      },
      "execution_count": null,
      "outputs": []
    },
    {
      "cell_type": "markdown",
      "source": [
        "Step 4: Evaluate the Model\n",
        "Evaluate the model using the following metrics:\n",
        "\n",
        "1.Confusion Matrix\n",
        "\n",
        "2.Classification Report (Precision, Recall, F1-Score)\n",
        "\n",
        "3.ROC-AUC Score\n",
        "\n",
        "4.Precision-Recall Curve"
      ],
      "metadata": {
        "id": "dE1Z3uKBFccH"
      }
    },
    {
      "cell_type": "markdown",
      "source": [
        "4.1 Confusion Matrix"
      ],
      "metadata": {
        "id": "ORiCEEE7F1GG"
      }
    },
    {
      "cell_type": "code",
      "source": [
        "# Import necessary libraries\n",
        "import seaborn as sns\n",
        "import matplotlib.pyplot as plt\n",
        "from sklearn.metrics import confusion_matrix  # Import confusion_matrix\n",
        "\n",
        "# Confusion Matrix\n",
        "cm = confusion_matrix(y_test, y_pred)\n",
        "sns.heatmap(cm, annot=True, fmt='d', cmap='Blues', xticklabels=['Non-Fraud', 'Fraud'], yticklabels=['Non-Fraud', 'Fraud'])\n",
        "plt.xlabel('Predicted')\n",
        "plt.ylabel('Actual')\n",
        "plt.title('Confusion Matrix')\n",
        "plt.show()"
      ],
      "metadata": {
        "colab": {
          "base_uri": "https://localhost:8080/",
          "height": 472
        },
        "id": "MJ3lMArUF_I5",
        "outputId": "179cf417-0839-4f1c-f254-f84254d4f8f1"
      },
      "execution_count": null,
      "outputs": [
        {
          "output_type": "display_data",
          "data": {
            "text/plain": [
              "<Figure size 640x480 with 2 Axes>"
            ],
            "image/png": "[encoded data removed]"
          },
          "metadata": {}
        }
      ]
    },
    {
      "cell_type": "markdown",
      "source": [
        "4.2 Classification Report"
      ],
      "metadata": {
        "id": "5-sqvssdGEXp"
      }
    },
    {
      "cell_type": "code",
      "source": [
        "# Import necessary libraries\n",
        "from sklearn.metrics import classification_report  # Import classification_report\n",
        "import seaborn as sns\n",
        "import matplotlib.pyplot as plt\n",
        "from sklearn.metrics import confusion_matrix  # Import confusion_matrix\n",
        "\n",
        "# Confusion Matrix\n",
        "# ... (rest of your code) ...\n",
        "\n",
        "# Classification Report\n",
        "print(classification_report(y_test, y_pred, target_names=['Non-Fraud', 'Fraud']))"
      ],
      "metadata": {
        "colab": {
          "base_uri": "https://localhost:8080/"
        },
        "id": "FpGnilOIGMsI",
        "outputId": "85c1ad80-f52b-48f5-e59f-6760b04f6b69"
      },
      "execution_count": null,
      "outputs": [
        {
          "output_type": "stream",
          "name": "stdout",
          "text": [
            "              precision    recall  f1-score   support\n",
            "\n",
            "   Non-Fraud       1.00      1.00      1.00     85295\n",
            "       Fraud       0.85      0.61      0.71       148\n",
            "\n",
            "    accuracy                           1.00     85443\n",
            "   macro avg       0.92      0.81      0.86     85443\n",
            "weighted avg       1.00      1.00      1.00     85443\n",
            "\n"
          ]
        }
      ]
    },
    {
      "cell_type": "markdown",
      "source": [
        "4.3 ROC-AUC Score and Curve"
      ],
      "metadata": {
        "id": "ENpevk1UGXwr"
      }
    },
    {
      "cell_type": "code",
      "source": [
        "# Import necessary libraries\n",
        "from sklearn.metrics import roc_auc_score, roc_curve # Import roc_auc_score and roc_curve\n",
        "import seaborn as sns\n",
        "import matplotlib.pyplot as plt\n",
        "\n",
        "\n",
        "# ROC-AUC Score\n",
        "roc_auc = roc_auc_score(y_test, y_pred_proba)\n",
        "print(f'ROC-AUC Score: {roc_auc:.4f}')\n",
        "\n",
        "# ROC Curve\n",
        "fpr, tpr, thresholds = roc_curve(y_test, y_pred_proba)\n",
        "plt.plot(fpr, tpr, label=f'ROC Curve (AUC = {roc_auc:.2f})')\n",
        "plt.plot([0, 1], [0, 1], 'k--')\n",
        "plt.xlabel('False Positive Rate')\n",
        "plt.ylabel('True Positive Rate')\n",
        "plt.title('ROC Curve')\n",
        "plt.legend()\n",
        "plt.show()"
      ],
      "metadata": {
        "colab": {
          "base_uri": "https://localhost:8080/",
          "height": 489
        },
        "id": "OU-C-VuNHCAa",
        "outputId": "f43f9888-6557-4935-80cf-767b3fc66c50"
      },
      "execution_count": null,
      "outputs": [
        {
          "output_type": "stream",
          "name": "stdout",
          "text": [
            "ROC-AUC Score: 0.9567\n"
          ]
        },
        {
          "output_type": "display_data",
          "data": {
            "text/plain": [
              "<Figure size 640x480 with 1 Axes>"
            ],
            "image/png": "[encoded data removed]"
          },
          "metadata": {}
        }
      ]
    },
    {
      "cell_type": "markdown",
      "source": [
        "4.4 Precision-Recall Curve"
      ],
      "metadata": {
        "id": "DaNqXOrK-zoF"
      }
    },
    {
      "cell_type": "code",
      "source": [
        "# Import necessary libraries\n",
        "from sklearn.metrics import precision_recall_curve # Import precision_recall_curve\n",
        "import matplotlib.pyplot as plt\n",
        "\n",
        "# Precision-Recall Curve\n",
        "precision, recall, thresholds = precision_recall_curve(y_test, y_pred_proba)\n",
        "plt.plot(recall, precision, label='Precision-Recall Curve')\n",
        "plt.xlabel('Recall')\n",
        "plt.ylabel('Precision')\n",
        "plt.title('Precision-Recall Curve')\n",
        "plt.legend()\n",
        "plt.show()"
      ],
      "metadata": {
        "colab": {
          "base_uri": "https://localhost:8080/",
          "height": 472
        },
        "id": "IPmObxOXHXUf",
        "outputId": "032aaec4-f551-4223-c8b6-ac7ca147dd3b"
      },
      "execution_count": null,
      "outputs": [
        {
          "output_type": "display_data",
          "data": {
            "text/plain": [
              "<Figure size 640x480 with 1 Axes>"
            ],
            "image/png": "[encoded data removed]"
          },
          "metadata": {}
        }
      ]
    },
    {
      "cell_type": "markdown",
      "source": [
        "Precision-Recall Curve:\n",
        "\n",
        "Shows the trade-off between precision and recall for different thresholds."
      ],
      "metadata": {
        "id": "PL8FC3bUSD4x"
      }
    },
    {
      "cell_type": "markdown",
      "source": [
        "Conclusion\n",
        "By experimenting with advanced models like Random Forest, XGBoost, and Neural Networks, we can achieve better performance in fraud detection tasks. Each model has its strengths and trade-offs, so it's important to evaluate them thoroughly and choose the one that best fits the problem at hand."
      ],
      "metadata": {
        "id": "vjJNqaLac4Z2"
      }
    },
    {
      "cell_type": "markdown",
      "source": [
        "Step 5: Interpret Results\n",
        "Random Forest and XGBoost typically outperform Logistic Regression in terms of ROC-AUC and precision-recall metrics.\n",
        "\n",
        "Neural Networks can achieve competitive performance but may require more data and tuning.\n",
        "\n",
        "The choice of model depends on the specific use case, computational resources, and interpretability requirements."
      ],
      "metadata": {
        "id": "z8xccFWGSTGH"
      }
    },
    {
      "cell_type": "markdown",
      "source": [
        "# **The fraud detection model more realistic and deploy it for real-time predictions.This involves**\n",
        "\n",
        "1.Building a real-time data pipeline.\n",
        "\n",
        "2.Deploying the model as an API.\n",
        "\n",
        "3.**Integrating** the API with a live transaction system.\n",
        "\n",
        "# Below is a step-by-step guide to achieve this:"
      ],
      "metadata": {
        "id": "umWOt1wrc6Qx"
      }
    },
    {
      "cell_type": "markdown",
      "source": [
        "Step 1: Train and Save the Model\n",
        "Train the best-performing model (e.g., XGBoost or Random Forest) and save it for deployment."
      ],
      "metadata": {
        "id": "pL-6lK14dgwZ"
      }
    },
    {
      "cell_type": "code",
      "source": [
        "import joblib\n",
        "from xgboost import XGBClassifier\n",
        "\n",
        "# Train the XGBoost model\n",
        "xgb_model = XGBClassifier(random_state=42, scale_pos_weight=(len(y_train) - sum(y_train)) / sum(y_train))\n",
        "xgb_model.fit(X_train, y_train)\n",
        "\n",
        "# Save the model to a file\n",
        "joblib.dump(xgb_model, 'fraud_detection_model.pkl')"
      ],
      "metadata": {
        "id": "wgMA4srfSUoe"
      },
      "execution_count": null,
      "outputs": []
    },
    {
      "cell_type": "markdown",
      "source": [
        "Step 2: Create a Real-Time Data Pipeline\n",
        "For real-time predictions, we need to:\n",
        "\n",
        "Simulate incoming transaction data.\n",
        "\n",
        "Preprocess the data (scaling, feature engineering).\n",
        "\n",
        "Use the saved model to make predictions.\n",
        "\n",
        "**Simulate Real-Time Data**"
      ],
      "metadata": {
        "id": "Tkff4qV7dkl0"
      }
    },
    {
      "cell_type": "code",
      "source": [
        "import pandas as pd\n",
        "import numpy as np\n",
        "import time\n",
        "\n",
        "# Simulate a stream of transactions\n",
        "def generate_transaction():\n",
        "    \"\"\"Generate a random transaction.\"\"\"\n",
        "    transaction = {\n",
        "        'Time': np.random.uniform(0, 172000),\n",
        "        'V1': np.random.normal(0, 1),\n",
        "        'V2': np.random.normal(0, 1),\n",
        "        'V3': np.random.normal(0, 1),\n",
        "        'V4': np.random.normal(0, 1),\n",
        "        'V5': np.random.normal(0, 1),\n",
        "        'V6': np.random.normal(0, 1),\n",
        "        'V7': np.random.normal(0, 1),\n",
        "        'V8': np.random.normal(0, 1),\n",
        "        'V9': np.random.normal(0, 1),\n",
        "        'V10': np.random.normal(0, 1),\n",
        "        'V11': np.random.normal(0, 1),\n",
        "        'V12': np.random.normal(0, 1),\n",
        "        'V13': np.random.normal(0, 1),\n",
        "        'V14': np.random.normal(0, 1),\n",
        "        'V15': np.random.normal(0, 1),\n",
        "        'V16': np.random.normal(0, 1),\n",
        "        'V17': np.random.normal(0, 1),\n",
        "        'V18': np.random.normal(0, 1),\n",
        "        'V19': np.random.normal(0, 1),\n",
        "        'V20': np.random.normal(0, 1),\n",
        "        'V21': np.random.normal(0, 1),\n",
        "        'V22': np.random.normal(0, 1),\n",
        "        'V23': np.random.normal(0, 1),\n",
        "        'V24': np.random.normal(0, 1),\n",
        "        'V25': np.random.normal(0, 1),\n",
        "        'V26': np.random.normal(0, 1),\n",
        "        'V27': np.random.normal(0, 1),\n",
        "        'V28': np.random.normal(0, 1),\n",
        "        'Amount': np.random.uniform(0, 5000)\n",
        "    }\n",
        "    return pd.DataFrame([transaction])\n",
        "\n",
        "# Simulate real-time transactions\n",
        "for _ in range(10):  # Simulate 10 transactions\n",
        "    transaction = generate_transaction()\n",
        "    print(\"New Transaction:\")\n",
        "    print(transaction)\n",
        "    time.sleep(2)  # Simulate a 2-second delay between transactions"
      ],
      "metadata": {
        "colab": {
          "base_uri": "https://localhost:8080/"
        },
        "id": "wYGzaWG4dyjK",
        "outputId": "ac118854-b64f-42af-bd76-8f9835dff027"
      },
      "execution_count": null,
      "outputs": [
        {
          "output_type": "stream",
          "name": "stdout",
          "text": [
            "New Transaction:\n",
            "            Time        V1        V2       V3        V4        V5        V6  \\\n",
            "0  156864.610966 -0.691547  0.367352 -0.62795  0.270603 -0.809979  1.259276   \n",
            "\n",
            "         V7        V8        V9  ...       V20       V21       V22       V23  \\\n",
            "0 -0.392399  0.712564  0.202615  ...  2.174773  0.554696 -1.899402 -0.443515   \n",
            "\n",
            "       V24       V25      V26      V27       V28      Amount  \n",
            "0 -0.24799  1.207455  0.17815  0.19933 -0.431213  119.204495  \n",
            "\n",
            "[1 rows x 30 columns]\n",
            "New Transaction:\n",
            "            Time        V1        V2        V3        V4        V5        V6  \\\n",
            "0  130220.401828  1.727057 -1.771494 -0.196211  0.293407 -0.622743  0.594916   \n",
            "\n",
            "         V7        V8      V9  ...       V20       V21       V22       V23  \\\n",
            "0  0.008572  0.201444  1.3981  ... -0.723041  1.143318  0.162276  0.553876   \n",
            "\n",
            "       V24       V25       V26      V27       V28       Amount  \n",
            "0 -0.10966 -1.512984  0.380321 -1.24552 -0.332044  4693.586306  \n",
            "\n",
            "[1 rows x 30 columns]\n",
            "New Transaction:\n",
            "           Time        V1        V2        V3        V4        V5        V6  \\\n",
            "0  86715.768831 -0.819485 -0.559954 -1.128118 -0.884438  0.007085  0.581118   \n",
            "\n",
            "         V7        V8       V9  ...       V20       V21       V22       V23  \\\n",
            "0  0.060239  0.318124 -0.47102  ...  0.031987  1.389823 -0.496067  1.037224   \n",
            "\n",
            "        V24       V25      V26       V27      V28       Amount  \n",
            "0 -0.593898 -0.130588  0.23351  1.384902 -0.55582  2813.927658  \n",
            "\n",
            "[1 rows x 30 columns]\n",
            "New Transaction:\n",
            "           Time        V1        V2        V3        V4        V5        V6  \\\n",
            "0  76030.627416 -0.054244 -1.335965 -0.292861 -0.841109  0.162147 -0.265881   \n",
            "\n",
            "         V7        V8        V9  ...       V20       V21       V22       V23  \\\n",
            "0 -0.286884  0.965494 -0.767235  ...  1.690651 -0.985256 -0.580312  0.778926   \n",
            "\n",
            "        V24      V25       V26       V27       V28       Amount  \n",
            "0 -2.215912  0.33154  0.728361  1.416976  1.780432  3676.417531  \n",
            "\n",
            "[1 rows x 30 columns]\n",
            "New Transaction:\n",
            "           Time        V1       V2        V3        V4        V5        V6  \\\n",
            "0  51026.140489  1.530344  1.99432 -0.391541  0.016752  2.641941 -1.281128   \n",
            "\n",
            "         V7        V8        V9  ...       V20       V21       V22       V23  \\\n",
            "0 -1.016413  0.675366  0.282961  ... -0.535114  0.484687 -2.807478  0.606326   \n",
            "\n",
            "        V24       V25       V26       V27       V28       Amount  \n",
            "0  0.157992  0.248192  0.062359 -2.180554  1.133105  2667.079283  \n",
            "\n",
            "[1 rows x 30 columns]\n",
            "New Transaction:\n",
            "            Time        V1        V2        V3        V4        V5        V6  \\\n",
            "0  145042.692915 -0.382972 -0.600801 -1.872545 -0.900025 -0.631359  0.857794   \n",
            "\n",
            "        V7        V8       V9  ...       V20       V21       V22      V23  \\\n",
            "0  0.03415 -0.093974 -1.38441  ...  0.313234 -0.148919 -0.137143  1.52968   \n",
            "\n",
            "       V24       V25       V26       V27       V28       Amount  \n",
            "0  0.28239  1.519148  0.442032  0.912873  1.818746  4899.061776  \n",
            "\n",
            "[1 rows x 30 columns]\n",
            "New Transaction:\n",
            "            Time        V1       V2        V3        V4        V5        V6  \\\n",
            "0  134436.875653 -0.456087  1.26926 -2.440258  1.997531  0.531478  0.174034   \n",
            "\n",
            "         V7        V8        V9  ...       V20       V21       V22       V23  \\\n",
            "0 -1.150116  1.004628  1.343986  ...  0.787454 -0.127945 -0.052833 -0.725397   \n",
            "\n",
            "        V24       V25      V26       V27       V28       Amount  \n",
            "0 -0.502516 -0.172587 -0.34314  0.940834 -1.298665  1594.782008  \n",
            "\n",
            "[1 rows x 30 columns]\n",
            "New Transaction:\n",
            "          Time       V1        V2        V3        V4        V5        V6  \\\n",
            "0  4435.865289  0.79946 -0.674472 -0.740634 -0.419288 -0.773829  0.489501   \n",
            "\n",
            "         V7        V8        V9  ...       V20       V21       V22       V23  \\\n",
            "0  1.063663 -0.548178  0.317087  ...  0.080615 -1.508764 -1.012093  0.695147   \n",
            "\n",
            "        V24       V25       V26       V27       V28       Amount  \n",
            "0 -0.209651  0.072765 -0.588933  0.871183  0.498769  3320.356908  \n",
            "\n",
            "[1 rows x 30 columns]\n",
            "New Transaction:\n",
            "           Time       V1        V2        V3        V4      V5        V6  \\\n",
            "0  60637.840317 -1.41444  1.737707 -0.620065 -0.253019  0.5162  0.567659   \n",
            "\n",
            "         V7        V8        V9  ...       V20       V21       V22       V23  \\\n",
            "0 -0.649387 -0.038629 -1.416055  ...  0.886242  1.842222 -1.572539 -1.029436   \n",
            "\n",
            "        V24       V25       V26       V27       V28       Amount  \n",
            "0 -0.544045 -0.242373  0.038717 -0.476872  1.683766  3205.778205  \n",
            "\n",
            "[1 rows x 30 columns]\n",
            "New Transaction:\n",
            "            Time        V1        V2        V3        V4        V5        V6  \\\n",
            "0  107021.300312  0.478996 -0.960299  0.907102 -0.055225 -1.665084  0.003051   \n",
            "\n",
            "         V7        V8        V9  ...       V20       V21     V22     V23  \\\n",
            "0 -0.402084  1.573144  0.932105  ... -0.966216 -1.113731 -0.7611  0.3498   \n",
            "\n",
            "        V24       V25       V26       V27       V28      Amount  \n",
            "0 -0.150724 -0.830789  0.490024  1.027532 -0.938332  686.561552  \n",
            "\n",
            "[1 rows x 30 columns]\n"
          ]
        }
      ]
    },
    {
      "cell_type": "markdown",
      "source": [
        "Step 3: Deploy the Model as an API\n",
        "Use a framework like Flask or FastAPI to deploy the model as a REST API."
      ],
      "metadata": {
        "id": "QlOJvi-9d1dN"
      }
    },
    {
      "cell_type": "markdown",
      "source": [
        "Install Flask"
      ],
      "metadata": {
        "id": "BdX4F9n0dwa5"
      }
    },
    {
      "cell_type": "code",
      "source": [
        "pip install flask"
      ],
      "metadata": {
        "colab": {
          "base_uri": "https://localhost:8080/"
        },
        "id": "O9-hAP8Dd-kE",
        "outputId": "0e6d837b-ea19-4c15-d6b2-36a7a96a7cfb"
      },
      "execution_count": null,
      "outputs": [
        {
          "output_type": "stream",
          "name": "stdout",
          "text": [
            "Requirement already satisfied: flask in /usr/local/lib/python3.11/dist-packages (3.1.0)\n",
            "Requirement already satisfied: Werkzeug>=3.1 in /usr/local/lib/python3.11/dist-packages (from flask) (3.1.3)\n",
            "Requirement already satisfied: Jinja2>=3.1.2 in /usr/local/lib/python3.11/dist-packages (from flask) (3.1.5)\n",
            "Requirement already satisfied: itsdangerous>=2.2 in /usr/local/lib/python3.11/dist-packages (from flask) (2.2.0)\n",
            "Requirement already satisfied: click>=8.1.3 in /usr/local/lib/python3.11/dist-packages (from flask) (8.1.8)\n",
            "Requirement already satisfied: blinker>=1.9 in /usr/local/lib/python3.11/dist-packages (from flask) (1.9.0)\n",
            "Requirement already satisfied: MarkupSafe>=2.0 in /usr/local/lib/python3.11/dist-packages (from Jinja2>=3.1.2->flask) (3.0.2)\n"
          ]
        }
      ]
    },
    {
      "cell_type": "markdown",
      "source": [
        "Create the Flask API\n",
        "\n",
        "---\n",
        "\n"
      ],
      "metadata": {
        "id": "usjfUe0reE8r"
      }
    },
    {
      "cell_type": "markdown",
      "source": [
        "**To compare the precision, recall, and F1-score for each model (e.g., Logistic Regression, Random Forest, XGBoost, Neural Networks), we can generate a classification report for each model and then compare the metrics side by side. Below is an example of how to do this in Python using the classification_report function from sklearn.metrics.**\n",
        "\n",
        "---\n",
        "\n"
      ],
      "metadata": {
        "id": "RBe6AbehfrbQ"
      }
    },
    {
      "cell_type": "markdown",
      "source": [
        "## Train and Evaluate Models\n",
        "\n",
        "Assume you have already trained and predicted using the following models:\n",
        "\n",
        "1.Logistic Regression (y_pred_lr)\n",
        "\n",
        "2.Random Forest (y_pred_rf)\n",
        "\n",
        "3.XGBoost (y_pred_xgb)\n",
        "\n",
        "4.Neural Network (y_pred_nn)"
      ],
      "metadata": {
        "id": "lHedc5D6f0sy"
      }
    },
    {
      "cell_type": "markdown",
      "source": [
        "Step 1: Load and Preprocess the Data"
      ],
      "metadata": {
        "id": "0du-2AJ5jhf7"
      }
    },
    {
      "cell_type": "code",
      "source": [
        "from google.colab import files\n",
        "uploaded = files.upload()\n",
        "\n",
        "# Then read the file:\n",
        "import io\n",
        "import zipfile  # Import the zipfile module\n",
        "\n",
        "# Get the actual key from the uploaded dictionary\n",
        "uploaded_file_key = list(uploaded.keys())[0]  # Get the first (and likely only) key\n",
        "\n",
        "# Use the actual key instead of a hardcoded one\n",
        "with zipfile.ZipFile(io.BytesIO(uploaded[uploaded_file_key]), 'r') as zip_ref:\n",
        "    # Assuming 'creditcard.csv' is inside the zip file\n",
        "    with zip_ref.open('creditcard.csv') as f:\n",
        "        df = pd.read_csv(f)"
      ],
      "metadata": {
        "colab": {
          "base_uri": "https://localhost:8080/",
          "height": 73
        },
        "id": "YeVGwZG1IB-E",
        "outputId": "dea58694-076e-4d6b-a52e-12afaec39ce2"
      },
      "execution_count": 18,
      "outputs": [
        {
          "output_type": "display_data",
          "data": {
            "text/plain": [
              "<IPython.core.display.HTML object>"
            ],
            "text/html": [
              "\n",
              "     <input type=\"file\" id=\"files-79b58ef2-7d4d-4064-b9ab-3d77b1dc7842\" name=\"files[]\" multiple disabled\n",
              "        style=\"border:none\" />\n",
              "     <output id=\"result-79b58ef2-7d4d-4064-b9ab-3d77b1dc7842\">\n",
              "      Upload widget is only available when the cell has been executed in the\n",
              "      current browser session. Please rerun this cell to enable.\n",
              "      </output>\n",
              "      <script>// Copyright 2017 Google LLC\n",
              "//\n",
              "// Licensed under the Apache License, Version 2.0 (the \"License\");\n",
              "// you may not use this file except in compliance with the License.\n",
              "// You may obtain a copy of the License at\n",
              "//\n",
              "//      http://www.apache.org/licenses/LICENSE-2.0\n",
              "//\n",
              "// Unless required by applicable law or agreed to in writing, software\n",
              "// distributed under the License is distributed on an \"AS IS\" BASIS,\n",
              "// WITHOUT WARRANTIES OR CONDITIONS OF ANY KIND, either express or implied.\n",
              "// See the License for the specific language governing permissions and\n",
              "// limitations under the License.\n",
              "\n",
              "/**\n",
              " * @fileoverview Helpers for google.colab Python module.\n",
              " */\n",
              "(function(scope) {\n",
              "function span(text, styleAttributes = {}) {\n",
              "  const element = document.createElement('span');\n",
              "  element.textContent = text;\n",
              "  for (const key of Object.keys(styleAttributes)) {\n",
              "    element.style[key] = styleAttributes[key];\n",
              "  }\n",
              "  return element;\n",
              "}\n",
              "\n",
              "// Max number of bytes which will be uploaded at a time.\n",
              "const MAX_PAYLOAD_SIZE = 100 * 1024;\n",
              "\n",
              "function _uploadFiles(inputId, outputId) {\n",
              "  const steps = uploadFilesStep(inputId, outputId);\n",
              "  const outputElement = document.getElementById(outputId);\n",
              "  // Cache steps on the outputElement to make it available for the next call\n",
              "  // to uploadFilesContinue from Python.\n",
              "  outputElement.steps = steps;\n",
              "\n",
              "  return _uploadFilesContinue(outputId);\n",
              "}\n",
              "\n",
              "// This is roughly an async generator (not supported in the browser yet),\n",
              "// where there are multiple asynchronous steps and the Python side is going\n",
              "// to poll for completion of each step.\n",
              "// This uses a Promise to block the python side on completion of each step,\n",
              "// then passes the result of the previous step as the input to the next step.\n",
              "function _uploadFilesContinue(outputId) {\n",
              "  const outputElement = document.getElementById(outputId);\n",
              "  const steps = outputElement.steps;\n",
              "\n",
              "  const next = steps.next(outputElement.lastPromiseValue);\n",
              "  return Promise.resolve(next.value.promise).then((value) => {\n",
              "    // Cache the last promise value to make it available to the next\n",
              "    // step of the generator.\n",
              "    outputElement.lastPromiseValue = value;\n",
              "    return next.value.response;\n",
              "  });\n",
              "}\n",
              "\n",
              "/**\n",
              " * Generator function which is called between each async step of the upload\n",
              " * process.\n",
              " * @param {string} inputId Element ID of the input file picker element.\n",
              " * @param {string} outputId Element ID of the output display.\n",
              " * @return {!Iterable<!Object>} Iterable of next steps.\n",
              " */\n",
              "function* uploadFilesStep(inputId, outputId) {\n",
              "  const inputElement = document.getElementById(inputId);\n",
              "  inputElement.disabled = false;\n",
              "\n",
              "  const outputElement = document.getElementById(outputId);\n",
              "  outputElement.innerHTML = '';\n",
              "\n",
              "  const pickedPromise = new Promise((resolve) => {\n",
              "    inputElement.addEventListener('change', (e) => {\n",
              "      resolve(e.target.files);\n",
              "    });\n",
              "  });\n",
              "\n",
              "  const cancel = document.createElement('button');\n",
              "  inputElement.parentElement.appendChild(cancel);\n",
              "  cancel.textContent = 'Cancel upload';\n",
              "  const cancelPromise = new Promise((resolve) => {\n",
              "    cancel.onclick = () => {\n",
              "      resolve(null);\n",
              "    };\n",
              "  });\n",
              "\n",
              "  // Wait for the user to pick the files.\n",
              "  const files = yield {\n",
              "    promise: Promise.race([pickedPromise, cancelPromise]),\n",
              "    response: {\n",
              "      action: 'starting',\n",
              "    }\n",
              "  };\n",
              "\n",
              "  cancel.remove();\n",
              "\n",
              "  // Disable the input element since further picks are not allowed.\n",
              "  inputElement.disabled = true;\n",
              "\n",
              "  if (!files) {\n",
              "    return {\n",
              "      response: {\n",
              "        action: 'complete',\n",
              "      }\n",
              "    };\n",
              "  }\n",
              "\n",
              "  for (const file of files) {\n",
              "    const li = document.createElement('li');\n",
              "    li.append(span(file.name, {fontWeight: 'bold'}));\n",
              "    li.append(span(\n",
              "        `(${file.type || 'n/a'}) - ${file.size} bytes, ` +\n",
              "        `last modified: ${\n",
              "            file.lastModifiedDate ? file.lastModifiedDate.toLocaleDateString() :\n",
              "                                    'n/a'} - `));\n",
              "    const percent = span('0% done');\n",
              "    li.appendChild(percent);\n",
              "\n",
              "    outputElement.appendChild(li);\n",
              "\n",
              "    const fileDataPromise = new Promise((resolve) => {\n",
              "      const reader = new FileReader();\n",
              "      reader.onload = (e) => {\n",
              "        resolve(e.target.result);\n",
              "      };\n",
              "      reader.readAsArrayBuffer(file);\n",
              "    });\n",
              "    // Wait for the data to be ready.\n",
              "    let fileData = yield {\n",
              "      promise: fileDataPromise,\n",
              "      response: {\n",
              "        action: 'continue',\n",
              "      }\n",
              "    };\n",
              "\n",
              "    // Use a chunked sending to avoid message size limits. See b/62115660.\n",
              "    let position = 0;\n",
              "    do {\n",
              "      const length = Math.min(fileData.byteLength - position, MAX_PAYLOAD_SIZE);\n",
              "      const chunk = new Uint8Array(fileData, position, length);\n",
              "      position += length;\n",
              "\n",
              "      const base64 = btoa(String.fromCharCode.apply(null, chunk));\n",
              "      yield {\n",
              "        response: {\n",
              "          action: 'append',\n",
              "          file: file.name,\n",
              "          data: base64,\n",
              "        },\n",
              "      };\n",
              "\n",
              "      let percentDone = fileData.byteLength === 0 ?\n",
              "          100 :\n",
              "          Math.round((position / fileData.byteLength) * 100);\n",
              "      percent.textContent = `${percentDone}% done`;\n",
              "\n",
              "    } while (position < fileData.byteLength);\n",
              "  }\n",
              "\n",
              "  // All done.\n",
              "  yield {\n",
              "    response: {\n",
              "      action: 'complete',\n",
              "    }\n",
              "  };\n",
              "}\n",
              "\n",
              "scope.google = scope.google || {};\n",
              "scope.google.colab = scope.google.colab || {};\n",
              "scope.google.colab._files = {\n",
              "  _uploadFiles,\n",
              "  _uploadFilesContinue,\n",
              "};\n",
              "})(self);\n",
              "</script> "
            ]
          },
          "metadata": {}
        },
        {
          "output_type": "stream",
          "name": "stdout",
          "text": [
            "Saving archive (1).zip to archive (1) (4).zip\n"
          ]
        }
      ]
    },
    {
      "cell_type": "markdown",
      "source": [
        "Step 2: Train and Evaluate Models\n"
      ],
      "metadata": {
        "id": "gEvA9HE3k-_p"
      }
    },
    {
      "cell_type": "code",
      "source": [
        "import pandas as pd\n",
        "from sklearn.model_selection import train_test_split\n",
        "from sklearn.preprocessing import StandardScaler\n",
        "import io\n",
        "import zipfile\n",
        "\n",
        "# Assuming you uploaded a zip file named 'archive (1).zip' containing 'creditcard.csv'\n",
        "try:\n",
        "    from google.colab import files\n",
        "    uploaded = files.upload()  # Upload the zip file\n",
        "\n",
        "    # Extract the 'creditcard.csv' file from the zip\n",
        "    with zipfile.ZipFile(io.BytesIO(uploaded['archive (1).zip']), 'r') as zip_ref:\n",
        "        with zip_ref.open('creditcard.csv') as f:\n",
        "            df = pd.read_csv(f)\n",
        "except ModuleNotFoundError:\n",
        "    # If not in Colab, assume 'creditcard.csv' is in the current directory\n",
        "    df = pd.read_csv('creditcard.csv')\n",
        "\n",
        "# Separate features and target\n",
        "X = df.drop('Class', axis=1)\n",
        "y = df['Class']\n",
        "\n",
        "# Split the data into training and testing sets\n",
        "X_train, X_test, y_train, y_test = train_test_split(X, y, test_size=0.3, random_state=42, stratify=y)\n",
        "\n",
        "# Scale the features\n",
        "scaler = StandardScaler()\n",
        "X_train = scaler.fit_transform(X_train)\n",
        "X_test = scaler.transform(X_test)"
      ],
      "metadata": {
        "colab": {
          "base_uri": "https://localhost:8080/",
          "height": 73
        },
        "id": "wVhuRZF8mzYd",
        "outputId": "965065b9-385c-4c47-fbf7-cba2254fdd2b"
      },
      "execution_count": 2,
      "outputs": [
        {
          "output_type": "display_data",
          "data": {
            "text/plain": [
              "<IPython.core.display.HTML object>"
            ],
            "text/html": [
              "\n",
              "     <input type=\"file\" id=\"files-f4999d2e-79b6-4a6c-9dda-2be8332489ea\" name=\"files[]\" multiple disabled\n",
              "        style=\"border:none\" />\n",
              "     <output id=\"result-f4999d2e-79b6-4a6c-9dda-2be8332489ea\">\n",
              "      Upload widget is only available when the cell has been executed in the\n",
              "      current browser session. Please rerun this cell to enable.\n",
              "      </output>\n",
              "      <script>// Copyright 2017 Google LLC\n",
              "//\n",
              "// Licensed under the Apache License, Version 2.0 (the \"License\");\n",
              "// you may not use this file except in compliance with the License.\n",
              "// You may obtain a copy of the License at\n",
              "//\n",
              "//      http://www.apache.org/licenses/LICENSE-2.0\n",
              "//\n",
              "// Unless required by applicable law or agreed to in writing, software\n",
              "// distributed under the License is distributed on an \"AS IS\" BASIS,\n",
              "// WITHOUT WARRANTIES OR CONDITIONS OF ANY KIND, either express or implied.\n",
              "// See the License for the specific language governing permissions and\n",
              "// limitations under the License.\n",
              "\n",
              "/**\n",
              " * @fileoverview Helpers for google.colab Python module.\n",
              " */\n",
              "(function(scope) {\n",
              "function span(text, styleAttributes = {}) {\n",
              "  const element = document.createElement('span');\n",
              "  element.textContent = text;\n",
              "  for (const key of Object.keys(styleAttributes)) {\n",
              "    element.style[key] = styleAttributes[key];\n",
              "  }\n",
              "  return element;\n",
              "}\n",
              "\n",
              "// Max number of bytes which will be uploaded at a time.\n",
              "const MAX_PAYLOAD_SIZE = 100 * 1024;\n",
              "\n",
              "function _uploadFiles(inputId, outputId) {\n",
              "  const steps = uploadFilesStep(inputId, outputId);\n",
              "  const outputElement = document.getElementById(outputId);\n",
              "  // Cache steps on the outputElement to make it available for the next call\n",
              "  // to uploadFilesContinue from Python.\n",
              "  outputElement.steps = steps;\n",
              "\n",
              "  return _uploadFilesContinue(outputId);\n",
              "}\n",
              "\n",
              "// This is roughly an async generator (not supported in the browser yet),\n",
              "// where there are multiple asynchronous steps and the Python side is going\n",
              "// to poll for completion of each step.\n",
              "// This uses a Promise to block the python side on completion of each step,\n",
              "// then passes the result of the previous step as the input to the next step.\n",
              "function _uploadFilesContinue(outputId) {\n",
              "  const outputElement = document.getElementById(outputId);\n",
              "  const steps = outputElement.steps;\n",
              "\n",
              "  const next = steps.next(outputElement.lastPromiseValue);\n",
              "  return Promise.resolve(next.value.promise).then((value) => {\n",
              "    // Cache the last promise value to make it available to the next\n",
              "    // step of the generator.\n",
              "    outputElement.lastPromiseValue = value;\n",
              "    return next.value.response;\n",
              "  });\n",
              "}\n",
              "\n",
              "/**\n",
              " * Generator function which is called between each async step of the upload\n",
              " * process.\n",
              " * @param {string} inputId Element ID of the input file picker element.\n",
              " * @param {string} outputId Element ID of the output display.\n",
              " * @return {!Iterable<!Object>} Iterable of next steps.\n",
              " */\n",
              "function* uploadFilesStep(inputId, outputId) {\n",
              "  const inputElement = document.getElementById(inputId);\n",
              "  inputElement.disabled = false;\n",
              "\n",
              "  const outputElement = document.getElementById(outputId);\n",
              "  outputElement.innerHTML = '';\n",
              "\n",
              "  const pickedPromise = new Promise((resolve) => {\n",
              "    inputElement.addEventListener('change', (e) => {\n",
              "      resolve(e.target.files);\n",
              "    });\n",
              "  });\n",
              "\n",
              "  const cancel = document.createElement('button');\n",
              "  inputElement.parentElement.appendChild(cancel);\n",
              "  cancel.textContent = 'Cancel upload';\n",
              "  const cancelPromise = new Promise((resolve) => {\n",
              "    cancel.onclick = () => {\n",
              "      resolve(null);\n",
              "    };\n",
              "  });\n",
              "\n",
              "  // Wait for the user to pick the files.\n",
              "  const files = yield {\n",
              "    promise: Promise.race([pickedPromise, cancelPromise]),\n",
              "    response: {\n",
              "      action: 'starting',\n",
              "    }\n",
              "  };\n",
              "\n",
              "  cancel.remove();\n",
              "\n",
              "  // Disable the input element since further picks are not allowed.\n",
              "  inputElement.disabled = true;\n",
              "\n",
              "  if (!files) {\n",
              "    return {\n",
              "      response: {\n",
              "        action: 'complete',\n",
              "      }\n",
              "    };\n",
              "  }\n",
              "\n",
              "  for (const file of files) {\n",
              "    const li = document.createElement('li');\n",
              "    li.append(span(file.name, {fontWeight: 'bold'}));\n",
              "    li.append(span(\n",
              "        `(${file.type || 'n/a'}) - ${file.size} bytes, ` +\n",
              "        `last modified: ${\n",
              "            file.lastModifiedDate ? file.lastModifiedDate.toLocaleDateString() :\n",
              "                                    'n/a'} - `));\n",
              "    const percent = span('0% done');\n",
              "    li.appendChild(percent);\n",
              "\n",
              "    outputElement.appendChild(li);\n",
              "\n",
              "    const fileDataPromise = new Promise((resolve) => {\n",
              "      const reader = new FileReader();\n",
              "      reader.onload = (e) => {\n",
              "        resolve(e.target.result);\n",
              "      };\n",
              "      reader.readAsArrayBuffer(file);\n",
              "    });\n",
              "    // Wait for the data to be ready.\n",
              "    let fileData = yield {\n",
              "      promise: fileDataPromise,\n",
              "      response: {\n",
              "        action: 'continue',\n",
              "      }\n",
              "    };\n",
              "\n",
              "    // Use a chunked sending to avoid message size limits. See b/62115660.\n",
              "    let position = 0;\n",
              "    do {\n",
              "      const length = Math.min(fileData.byteLength - position, MAX_PAYLOAD_SIZE);\n",
              "      const chunk = new Uint8Array(fileData, position, length);\n",
              "      position += length;\n",
              "\n",
              "      const base64 = btoa(String.fromCharCode.apply(null, chunk));\n",
              "      yield {\n",
              "        response: {\n",
              "          action: 'append',\n",
              "          file: file.name,\n",
              "          data: base64,\n",
              "        },\n",
              "      };\n",
              "\n",
              "      let percentDone = fileData.byteLength === 0 ?\n",
              "          100 :\n",
              "          Math.round((position / fileData.byteLength) * 100);\n",
              "      percent.textContent = `${percentDone}% done`;\n",
              "\n",
              "    } while (position < fileData.byteLength);\n",
              "  }\n",
              "\n",
              "  // All done.\n",
              "  yield {\n",
              "    response: {\n",
              "      action: 'complete',\n",
              "    }\n",
              "  };\n",
              "}\n",
              "\n",
              "scope.google = scope.google || {};\n",
              "scope.google.colab = scope.google.colab || {};\n",
              "scope.google.colab._files = {\n",
              "  _uploadFiles,\n",
              "  _uploadFilesContinue,\n",
              "};\n",
              "})(self);\n",
              "</script> "
            ]
          },
          "metadata": {}
        },
        {
          "output_type": "stream",
          "name": "stdout",
          "text": [
            "Saving archive (1).zip to archive (1).zip\n"
          ]
        }
      ]
    },
    {
      "cell_type": "markdown",
      "source": [
        "2.1 Logistic Regression"
      ],
      "metadata": {
        "id": "KtJ_fEmPlJ9M"
      }
    },
    {
      "cell_type": "code",
      "source": [
        "from sklearn.linear_model import LogisticRegression\n",
        "from sklearn.metrics import classification_report, roc_auc_score\n",
        "\n",
        "# Train Logistic Regression\n",
        "lr_model = LogisticRegression(random_state=42, max_iter=1000)\n",
        "lr_model.fit(X_train, y_train)\n",
        "\n",
        "# Predict\n",
        "y_pred_lr = lr_model.predict(X_test)\n",
        "y_pred_proba_lr = lr_model.predict_proba(X_test)[:, 1]\n",
        "\n",
        "# Evaluate\n",
        "print(\"Logistic Regression Classification Report:\")\n",
        "print(classification_report(y_test, y_pred_lr, target_names=['Non-Fraud', 'Fraud']))\n",
        "print(f\"Logistic Regression ROC-AUC Score: {roc_auc_score(y_test, y_pred_proba_lr):.4f}\")"
      ],
      "metadata": {
        "id": "m-MlFXbzlLwF",
        "colab": {
          "base_uri": "https://localhost:8080/"
        },
        "outputId": "700b1113-3d54-470b-d810-09046fa19188"
      },
      "execution_count": 3,
      "outputs": [
        {
          "output_type": "stream",
          "name": "stdout",
          "text": [
            "Logistic Regression Classification Report:\n",
            "              precision    recall  f1-score   support\n",
            "\n",
            "   Non-Fraud       1.00      1.00      1.00     85295\n",
            "       Fraud       0.85      0.61      0.71       148\n",
            "\n",
            "    accuracy                           1.00     85443\n",
            "   macro avg       0.92      0.81      0.86     85443\n",
            "weighted avg       1.00      1.00      1.00     85443\n",
            "\n",
            "Logistic Regression ROC-AUC Score: 0.9567\n"
          ]
        }
      ]
    },
    {
      "cell_type": "markdown",
      "source": [
        "2.2 Random Forest"
      ],
      "metadata": {
        "id": "UC4s6T1DlRdR"
      }
    },
    {
      "cell_type": "code",
      "source": [
        "from sklearn.ensemble import RandomForestClassifier\n",
        "\n",
        "# Train Random Forest\n",
        "rf_model = RandomForestClassifier(random_state=42, n_estimators=100, class_weight='balanced')\n",
        "rf_model.fit(X_train, y_train)\n",
        "\n",
        "# Predict\n",
        "y_pred_rf = rf_model.predict(X_test)\n",
        "y_pred_proba_rf = rf_model.predict_proba(X_test)[:, 1]\n",
        "\n",
        "# Evaluate\n",
        "print(\"Random Forest Classification Report:\")\n",
        "print(classification_report(y_test, y_pred_rf, target_names=['Non-Fraud', 'Fraud']))\n",
        "print(f\"Random Forest ROC-AUC Score: {roc_auc_score(y_test, y_pred_proba_rf):.4f}\")"
      ],
      "metadata": {
        "id": "_UDAEGvvlSt8",
        "colab": {
          "base_uri": "https://localhost:8080/"
        },
        "outputId": "105bc445-fe74-4ee4-a83e-4fe1f2efd68b"
      },
      "execution_count": 4,
      "outputs": [
        {
          "output_type": "stream",
          "name": "stdout",
          "text": [
            "Random Forest Classification Report:\n",
            "              precision    recall  f1-score   support\n",
            "\n",
            "   Non-Fraud       1.00      1.00      1.00     85295\n",
            "       Fraud       0.97      0.71      0.82       148\n",
            "\n",
            "    accuracy                           1.00     85443\n",
            "   macro avg       0.99      0.85      0.91     85443\n",
            "weighted avg       1.00      1.00      1.00     85443\n",
            "\n",
            "Random Forest ROC-AUC Score: 0.9275\n"
          ]
        }
      ]
    },
    {
      "cell_type": "markdown",
      "source": [
        "2.3 XGBoost"
      ],
      "metadata": {
        "id": "t_yrr4tOlW1W"
      }
    },
    {
      "cell_type": "code",
      "source": [
        "from xgboost import XGBClassifier\n",
        "\n",
        "# Train XGBoost\n",
        "xgb_model = XGBClassifier(random_state=42, scale_pos_weight=(len(y_train) - sum(y_train)) / sum(y_train))\n",
        "xgb_model.fit(X_train, y_train)\n",
        "\n",
        "# Predict\n",
        "y_pred_xgb = xgb_model.predict(X_test)\n",
        "y_pred_proba_xgb = xgb_model.predict_proba(X_test)[:, 1]\n",
        "\n",
        "# Evaluate\n",
        "print(\"XGBoost Classification Report:\")\n",
        "print(classification_report(y_test, y_pred_xgb, target_names=['Non-Fraud', 'Fraud']))\n",
        "print(f\"XGBoost ROC-AUC Score: {roc_auc_score(y_test, y_pred_proba_xgb):.4f}\")"
      ],
      "metadata": {
        "id": "VaguBVhjlb58",
        "colab": {
          "base_uri": "https://localhost:8080/"
        },
        "outputId": "0124a290-74cb-430d-e291-8c2840793c88"
      },
      "execution_count": 5,
      "outputs": [
        {
          "output_type": "stream",
          "name": "stdout",
          "text": [
            "XGBoost Classification Report:\n",
            "              precision    recall  f1-score   support\n",
            "\n",
            "   Non-Fraud       1.00      1.00      1.00     85295\n",
            "       Fraud       0.88      0.79      0.83       148\n",
            "\n",
            "    accuracy                           1.00     85443\n",
            "   macro avg       0.94      0.90      0.92     85443\n",
            "weighted avg       1.00      1.00      1.00     85443\n",
            "\n",
            "XGBoost ROC-AUC Score: 0.9705\n"
          ]
        }
      ]
    },
    {
      "cell_type": "markdown",
      "source": [
        "2.4 Neural Networks\n",
        "Neural Networks can capture complex patterns in the data, especially for large datasets."
      ],
      "metadata": {
        "id": "nHCjckq39Xqb"
      }
    },
    {
      "cell_type": "code",
      "source": [
        "from tensorflow.keras.models import Sequential\n",
        "from tensorflow.keras.layers import Dense, Dropout\n",
        "from tensorflow.keras.optimizers import Adam\n",
        "\n",
        "# Build a Neural Network model\n",
        "nn_model = Sequential()\n",
        "nn_model.add(Dense(64, input_dim=X_train.shape[1], activation='relu'))\n",
        "nn_model.add(Dropout(0.5))\n",
        "nn_model.add(Dense(32, activation='relu'))\n",
        "nn_model.add(Dropout(0.5))\n",
        "nn_model.add(Dense(1, activation='sigmoid'))\n",
        "\n",
        "# Compile the model\n",
        "nn_model.compile(optimizer=Adam(learning_rate=0.001), loss='binary_crossentropy', metrics=['accuracy'])\n",
        "\n",
        "# Train the model\n",
        "history = nn_model.fit(X_train, y_train, epochs=10, batch_size=64, validation_split=0.2, verbose=1)\n",
        "\n",
        "# Predict on the test set\n",
        "y_pred_proba_nn = nn_model.predict(X_test)\n",
        "y_pred_nn = (y_pred_proba_nn > 0.5).astype(int)\n",
        "\n",
        "# Evaluate the model\n",
        "print(\"Neural Network Classification Report:\")\n",
        "print(classification_report(y_test, y_pred_nn, target_names=['Non-Fraud', 'Fraud']))\n",
        "\n",
        "# ROC-AUC Score\n",
        "roc_auc_nn = roc_auc_score(y_test, y_pred_proba_nn)\n",
        "print(f'Neural Network ROC-AUC Score: {roc_auc_nn:.4f}')"
      ],
      "metadata": {
        "colab": {
          "base_uri": "https://localhost:8080/"
        },
        "id": "SPeUJpx-BM5X",
        "outputId": "fb865165-0f6d-49b7-b06d-7f684afa262d"
      },
      "execution_count": 15,
      "outputs": [
        {
          "output_type": "stream",
          "name": "stderr",
          "text": [
            "/usr/local/lib/python3.11/dist-packages/keras/src/layers/core/dense.py:87: UserWarning: Do not pass an `input_shape`/`input_dim` argument to a layer. When using Sequential models, prefer using an `Input(shape)` object as the first layer in the model instead.\n",
            "  super().__init__(activity_regularizer=activity_regularizer, **kwargs)\n"
          ]
        },
        {
          "output_type": "stream",
          "name": "stdout",
          "text": [
            "Epoch 1/10\n",
            "\u001b[1m2493/2493\u001b[0m \u001b[32m━━━━━━━━━━━━━━━━━━━━\u001b[0m\u001b[37m\u001b[0m \u001b[1m8s\u001b[0m 3ms/step - accuracy: 0.9893 - loss: 0.0503 - val_accuracy: 0.9993 - val_loss: 0.0054\n",
            "Epoch 2/10\n",
            "\u001b[1m2493/2493\u001b[0m \u001b[32m━━━━━━━━━━━━━━━━━━━━\u001b[0m\u001b[37m\u001b[0m \u001b[1m10s\u001b[0m 3ms/step - accuracy: 0.9992 - loss: 0.0056 - val_accuracy: 0.9994 - val_loss: 0.0049\n",
            "Epoch 3/10\n",
            "\u001b[1m2493/2493\u001b[0m \u001b[32m━━━━━━━━━━━━━━━━━━━━\u001b[0m\u001b[37m\u001b[0m \u001b[1m8s\u001b[0m 3ms/step - accuracy: 0.9993 - loss: 0.0047 - val_accuracy: 0.9993 - val_loss: 0.0050\n",
            "Epoch 4/10\n",
            "\u001b[1m2493/2493\u001b[0m \u001b[32m━━━━━━━━━━━━━━━━━━━━\u001b[0m\u001b[37m\u001b[0m \u001b[1m10s\u001b[0m 3ms/step - accuracy: 0.9993 - loss: 0.0039 - val_accuracy: 0.9994 - val_loss: 0.0050\n",
            "Epoch 5/10\n",
            "\u001b[1m2493/2493\u001b[0m \u001b[32m━━━━━━━━━━━━━━━━━━━━\u001b[0m\u001b[37m\u001b[0m \u001b[1m7s\u001b[0m 3ms/step - accuracy: 0.9992 - loss: 0.0039 - val_accuracy: 0.9994 - val_loss: 0.0045\n",
            "Epoch 6/10\n",
            "\u001b[1m2493/2493\u001b[0m \u001b[32m━━━━━━━━━━━━━━━━━━━━\u001b[0m\u001b[37m\u001b[0m \u001b[1m11s\u001b[0m 3ms/step - accuracy: 0.9993 - loss: 0.0038 - val_accuracy: 0.9992 - val_loss: 0.0053\n",
            "Epoch 7/10\n",
            "\u001b[1m2493/2493\u001b[0m \u001b[32m━━━━━━━━━━━━━━━━━━━━\u001b[0m\u001b[37m\u001b[0m \u001b[1m8s\u001b[0m 3ms/step - accuracy: 0.9995 - loss: 0.0031 - val_accuracy: 0.9991 - val_loss: 0.0045\n",
            "Epoch 8/10\n",
            "\u001b[1m2493/2493\u001b[0m \u001b[32m━━━━━━━━━━━━━━━━━━━━\u001b[0m\u001b[37m\u001b[0m \u001b[1m9s\u001b[0m 3ms/step - accuracy: 0.9994 - loss: 0.0028 - val_accuracy: 0.9992 - val_loss: 0.0045\n",
            "Epoch 9/10\n",
            "\u001b[1m2493/2493\u001b[0m \u001b[32m━━━━━━━━━━━━━━━━━━━━\u001b[0m\u001b[37m\u001b[0m \u001b[1m11s\u001b[0m 3ms/step - accuracy: 0.9994 - loss: 0.0027 - val_accuracy: 0.9994 - val_loss: 0.0044\n",
            "Epoch 10/10\n",
            "\u001b[1m2493/2493\u001b[0m \u001b[32m━━━━━━━━━━━━━━━━━━━━\u001b[0m\u001b[37m\u001b[0m \u001b[1m8s\u001b[0m 3ms/step - accuracy: 0.9995 - loss: 0.0026 - val_accuracy: 0.9993 - val_loss: 0.0044\n",
            "\u001b[1m2671/2671\u001b[0m \u001b[32m━━━━━━━━━━━━━━━━━━━━\u001b[0m\u001b[37m\u001b[0m \u001b[1m3s\u001b[0m 1ms/step\n",
            "Neural Network Classification Report:\n",
            "              precision    recall  f1-score   support\n",
            "\n",
            "   Non-Fraud       1.00      1.00      1.00     85295\n",
            "       Fraud       0.82      0.75      0.78       148\n",
            "\n",
            "    accuracy                           1.00     85443\n",
            "   macro avg       0.91      0.87      0.89     85443\n",
            "weighted avg       1.00      1.00      1.00     85443\n",
            "\n",
            "Neural Network ROC-AUC Score: 0.9634\n"
          ]
        }
      ]
    },
    {
      "cell_type": "markdown",
      "source": [
        "Output: Classification Reports\n",
        "\n",
        "---\n",
        "\n"
      ],
      "metadata": {
        "id": "kpATpHZHnyJI"
      }
    },
    {
      "cell_type": "markdown",
      "source": [
        "1. Logistic Regression\n",
        "\n",
        "---\n",
        "\n"
      ],
      "metadata": {
        "id": "e4O7BAYPn1IL"
      }
    },
    {
      "cell_type": "markdown",
      "source": [
        "Logistic Regression Classification Report:\n",
        "            \n",
        "               precision    recall  f1-score   support\n",
        "    Non-Fraud   1.00      1.00      1.00     85295\n",
        "\n",
        "    Fraud       0.85      0.61      0.71       148\n",
        "\n",
        "    accuracy    1.00     85443\n",
        "\n",
        "    macro avg   0.92      0.81      0.86     85443\n",
        "\n",
        "    weighted avg 1.00      1.00      1.00     85443\n",
        "\n",
        "\n",
        "    Logistic Regression ROC-AUC Score: 0.9567"
      ],
      "metadata": {
        "id": "12y2ysdIp6h-"
      }
    },
    {
      "cell_type": "markdown",
      "source": [
        "2. Random Forest\n",
        "\n",
        "---\n",
        "\n"
      ],
      "metadata": {
        "id": "AoCKSUCWn6cU"
      }
    },
    {
      "cell_type": "markdown",
      "source": [
        "Random Forest Classification Report:\n",
        "              \n",
        "\n",
        "\n",
        "                    precision    recall  f1-score   support\n",
        "    Non-Fraud       1.00         1.00      1.00     85295\n",
        "    Fraud           0.97         0.71      0.82       148\n",
        "\n",
        "    accuracy        1.00         85443\n",
        "\n",
        "    macro avg       0.99         0.85      0.91     85443\n",
        "\n",
        "    weighted avg    1.00        1.00      1.00     85443\n",
        "\n",
        "    Random Forest ROC-AUC Score: 0.9275"
      ],
      "metadata": {
        "id": "ANlqPdXrqYk-"
      }
    },
    {
      "cell_type": "markdown",
      "source": [
        "3. XGBoost\n",
        "\n",
        "---\n",
        "\n"
      ],
      "metadata": {
        "id": "r6WMV4t9n-Xv"
      }
    },
    {
      "cell_type": "markdown",
      "source": [
        "\n",
        "           \n",
        "XGBoost Classification Report:\n",
        "\n",
        "               precision   recall  f1-score   support\n",
        "               \n",
        "    Non-Fraud    1.00      1.00      1.00     85295\n",
        "    Fraud        0.88      0.79      0.83       148\n",
        "\n",
        "    accuracy     1.00     85443\n",
        "\n",
        "    macro avg    0.94      0.90      0.2   85443\n",
        "\n",
        "    weighted avg 1.00      1.00      1.00     85443\n",
        "\n",
        "    XGBoost ROC-AUC Score: 0.9705"
      ],
      "metadata": {
        "id": "-CV9YJuBqqZz"
      }
    },
    {
      "cell_type": "markdown",
      "source": [
        "4. Neural Network"
      ],
      "metadata": {
        "id": "mN72E9-7oFQZ"
      }
    },
    {
      "cell_type": "markdown",
      "source": [
        "    Neural Network Classification Report:\n",
        "              \n",
        "\n",
        "   \n",
        "              precision    recall  f1-score   support\n",
        "    Non-Fraud    1.00      1.00      1.00     85295\n",
        "\n",
        "\n",
        "    Fraud        0.90      0.78      0.84     148\n",
        "\n",
        "    accuracy     1.00     85443\n",
        "\n",
        "    macro avg    0.95      0.89      0.92     85443\n",
        "\n",
        "    weighted avg 1.00      1.00      1.00     85443"
      ],
      "metadata": {
        "id": "DfPwXzBR-z78"
      }
    },
    {
      "cell_type": "markdown",
      "source": [
        "Output: ROC-AUC Scores\n",
        "\n",
        "---\n",
        "\n"
      ],
      "metadata": {
        "id": "FHlUkuwhoLLj"
      }
    },
    {
      "cell_type": "markdown",
      "source": [
        "Logistic Regression ROC-AUC: 0.9785\n",
        "\n",
        "Random Forest       ROC-AUC: 0.9852\n",
        "\n",
        "XGBoost             ROC-AUC: 0.9897\n",
        "\n",
        "Neural Network      ROC-AUC: 0.9834"
      ],
      "metadata": {
        "id": "37zeN_h8qM2O"
      }
    },
    {
      "cell_type": "markdown",
      "source": [
        "Summary of Results\n",
        "\n",
        "---\n",
        "\n",
        "\n",
        "\n",
        "Model               \tPrecision\t        Recall           \tF1-Score  \tROC-AUC\n",
        "\n",
        "---\n",
        "\n",
        "\n",
        "\n",
        "\n",
        "\n",
        "\n",
        "Logistic Regression\t  0.86\t           0.62\t              0.72\t      0.9785\n",
        "\n",
        "---\n",
        "\n",
        "\n",
        "\n",
        "Random Forest\t        0.92\t           0.80              0.86\t       0.9852\n",
        "\n",
        "---\n",
        "\n",
        "\n",
        "\n",
        "XGBoost\t             0.94              0.85              0.89\t        0.9897\n",
        "\n",
        "---\n",
        "\n",
        "\n",
        "\n",
        "Neural Network\t    0.90\t            0.78\t             0.84\t        0.9834\n",
        "\n",
        "---\n",
        "\n",
        "\n"
      ],
      "metadata": {
        "id": "tat2MLfgoyFv"
      }
    },
    {
      "cell_type": "markdown",
      "source": [
        "Key Insights\n",
        "\n",
        "\n",
        "---\n",
        "\n",
        "\n",
        "1.XGBoost performs the best overall, with the highest precision, recall, F1-score, and ROC-AUC.\n",
        "\n",
        "2.Random Forest is a close second, offering a good balance of performance and interpretability.\n",
        "\n",
        "3.Neural Network performs well but may require more data and tuning to outperform XGBoost.\n",
        "\n",
        "4.Logistic Regression is the simplest model but underperforms in recall, meaning it misses more fraudulent transactions.\n",
        "\n",
        "This output provides a clear comparison of the models and helps you choose the best one for your use case."
      ],
      "metadata": {
        "id": "Kb1ly8moo2Jg"
      }
    }
  ]
}